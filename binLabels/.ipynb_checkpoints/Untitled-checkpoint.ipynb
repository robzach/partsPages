{
 "cells": [
  {
   "cell_type": "code",
   "execution_count": 17,
   "metadata": {
    "collapsed": false
   },
   "outputs": [],
   "source": [
    "import csv\n",
    "import os.path\n",
    "from PIL import ImageTk\n",
    "import qrcode\n",
    "from qrcode.image.pure import PymagingImage\n",
    "from tkinter import *"
   ]
  },
  {
   "cell_type": "code",
   "execution_count": 18,
   "metadata": {
    "collapsed": true
   },
   "outputs": [],
   "source": [
    "showImage = True;\n",
    "makeQR = True;"
   ]
  },
  {
   "cell_type": "code",
   "execution_count": 23,
   "metadata": {
    "collapsed": false
   },
   "outputs": [
    {
     "name": "stdout",
     "output_type": "stream",
     "text": [
      "num, name\n",
      "num.jpg not found\n",
      "4988, A4988 stepper motor driver\n",
      "4988.jpg found\n",
      "made qr code pointing to: shrtco.de/4988\n"
     ]
    }
   ],
   "source": [
    "with open('try.csv') as csvfile:\n",
    "    spamreader = csv.reader(csvfile, delimiter=',', quotechar='|')\n",
    "    for row in spamreader:\n",
    "        print (', '.join(row))\n",
    "        fname = row[0] + '.jpg'\n",
    "        if os.path.isfile(fname):\n",
    "            print (fname + \" found\")\n",
    "            if showImage:\n",
    "                #image = ImageTk.open(fname)\n",
    "                #image.show()\n",
    "                pass;\n",
    "            if makeQR:\n",
    "                url = 'shrtco.de/' + row[0]\n",
    "                qr = qrcode.make(url)\n",
    "                print ('made qr code pointing to: ' + url)\n",
    "                qr = qrcode.QRCode(\n",
    "                    version=1,\n",
    "                    error_correction=qrcode.constants.ERROR_CORRECT_L,\n",
    "                    box_size=35,\n",
    "                    border=1,\n",
    "                )\n",
    "                qr.add_data('Some data')\n",
    "                qr.make(fit=True)\n",
    "\n",
    "                pngout = qr.make_image()\n",
    "                pngout.save(fname[:-4]+\".png\")\n",
    "                pngout.show()\n",
    "        else:\n",
    "            print (fname + \" not found\")"
   ]
  },
  {
   "cell_type": "code",
   "execution_count": null,
   "metadata": {
    "collapsed": false
   },
   "outputs": [],
   "source": [
    "def draw(canvas, width, height):\n",
    "    photo = ImageTk.PhotoImage(pngout)\n",
    "    imagesprite = canvas.create_image(400,400,image=photo)    \n",
    "\n",
    "def runDrawing(width=300, height=300):\n",
    "    root = Tk()\n",
    "    canvas = Canvas(root, width=width, height=height)\n",
    "    canvas.pack()\n",
    "    draw(canvas, width, height)\n",
    "    root.mainloop()\n",
    "    print(\"bye!\")\n",
    "\n",
    "runDrawing(400, 200)"
   ]
  },
  {
   "cell_type": "code",
   "execution_count": null,
   "metadata": {
    "collapsed": true
   },
   "outputs": [],
   "source": []
  }
 ],
 "metadata": {
  "kernelspec": {
   "display_name": "Python 3",
   "language": "python",
   "name": "python3"
  },
  "language_info": {
   "codemirror_mode": {
    "name": "ipython",
    "version": 3
   },
   "file_extension": ".py",
   "mimetype": "text/x-python",
   "name": "python",
   "nbconvert_exporter": "python",
   "pygments_lexer": "ipython3",
   "version": "3.5.2"
  }
 },
 "nbformat": 4,
 "nbformat_minor": 2
}
